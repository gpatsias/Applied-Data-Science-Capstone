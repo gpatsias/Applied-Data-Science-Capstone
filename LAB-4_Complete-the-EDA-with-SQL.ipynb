{
 "cells": [
  {
   "cell_type": "markdown",
   "metadata": {},
   "source": [
    "<p style=\"text-align:center\">\n",
    "    <a href=\"https://skills.network\" target=\"_blank\">\n",
    "    <img src=\"https://cf-courses-data.s3.us.cloud-object-storage.appdomain.cloud/assets/logos/SN_web_lightmode.png\" width=\"200\" alt=\"Skills Network Logo\">\n",
    "    </a>\n",
    "</p>\n",
    "\n",
    "<h1 align=center><font size = 5>Assignment: SQL Notebook for Peer Assignment</font></h1>\n",
    "\n",
    "Estimated time needed: **60** minutes.\n",
    "\n",
    "## Introduction\n",
    "Using this Python notebook you will:\n",
    "\n",
    "1.  Understand the Spacex DataSet\n",
    "2.  Load the dataset  into the corresponding table in a Db2 database\n",
    "3.  Execute SQL queries to answer assignment questions \n"
   ]
  },
  {
   "cell_type": "markdown",
   "metadata": {},
   "source": [
    "## Overview of the DataSet\n",
    "\n",
    "SpaceX has gained worldwide attention for a series of historic milestones. \n",
    "\n",
    "It is the only private company ever to return a spacecraft from low-earth orbit, which it first accomplished in December 2010.\n",
    "SpaceX advertises Falcon 9 rocket launches on its website with a cost of 62 million dollars wheras other providers cost upward of 165 million dollars each, much of the savings is because Space X can reuse the first stage. \n",
    "\n",
    "\n",
    "Therefore if we can determine if the first stage will land, we can determine the cost of a launch. \n",
    "\n",
    "This information can be used if an alternate company wants to bid against SpaceX for a rocket launch.\n",
    "\n",
    "This dataset includes a record for each payload carried during a SpaceX mission into outer space.\n"
   ]
  },
  {
   "cell_type": "markdown",
   "metadata": {},
   "source": [
    "### Download the datasets\n",
    "\n",
    "This assignment requires you to load the spacex dataset.\n",
    "\n",
    "In many cases the dataset to be analyzed is available as a .CSV (comma separated values) file, perhaps on the internet. Click on the link below to download and save the dataset (.CSV file):\n",
    "\n",
    " <a href=\"https://cf-courses-data.s3.us.cloud-object-storage.appdomain.cloud/IBM-DS0321EN-SkillsNetwork/labs/module_2/data/Spacex.csv\" target=\"_blank\">Spacex DataSet</a>\n",
    "\n"
   ]
  },
  {
   "cell_type": "code",
   "execution_count": 1,
   "metadata": {},
   "outputs": [
    {
     "name": "stdout",
     "output_type": "stream",
     "text": [
      "Defaulting to user installation because normal site-packages is not writeable\n",
      "Collecting sqlalchemy==1.3.9\n",
      "  Downloading SQLAlchemy-1.3.9.tar.gz (6.0 MB)\n",
      "     ---------------------------------------- 0.0/6.0 MB ? eta -:--:--\n",
      "     ---------------------------------------- 0.0/6.0 MB ? eta -:--:--\n",
      "     ---------------------------------------- 0.0/6.0 MB ? eta -:--:--\n",
      "     ---------------------------------------- 0.0/6.0 MB ? eta -:--:--\n",
      "     ---------------------------------------- 0.0/6.0 MB ? eta -:--:--\n",
      "     - -------------------------------------- 0.3/6.0 MB ? eta -:--:--\n",
      "     ----- ---------------------------------- 0.8/6.0 MB 1.7 MB/s eta 0:00:04\n",
      "     ----- ---------------------------------- 0.8/6.0 MB 1.7 MB/s eta 0:00:04\n",
      "     -------------- ------------------------- 2.1/6.0 MB 2.4 MB/s eta 0:00:02\n",
      "     ----------------- ---------------------- 2.6/6.0 MB 2.7 MB/s eta 0:00:02\n",
      "     ---------------------- ----------------- 3.4/6.0 MB 2.6 MB/s eta 0:00:01\n",
      "     -------------------------- ------------- 3.9/6.0 MB 2.8 MB/s eta 0:00:01\n",
      "     ---------------------------- ----------- 4.2/6.0 MB 2.7 MB/s eta 0:00:01\n",
      "     --------------------------------- ------ 5.0/6.0 MB 2.6 MB/s eta 0:00:01\n",
      "     ----------------------------------- ---- 5.2/6.0 MB 2.6 MB/s eta 0:00:01\n",
      "     -------------------------------------- - 5.8/6.0 MB 2.6 MB/s eta 0:00:01\n",
      "     ---------------------------------------- 6.0/6.0 MB 2.5 MB/s  0:00:03\n",
      "  Installing build dependencies: started\n",
      "  Installing build dependencies: finished with status 'done'\n",
      "  Getting requirements to build wheel: started\n",
      "  Getting requirements to build wheel: finished with status 'done'\n",
      "  Preparing metadata (pyproject.toml): started\n",
      "  Preparing metadata (pyproject.toml): finished with status 'done'\n",
      "Building wheels for collected packages: sqlalchemy\n",
      "  Building wheel for sqlalchemy (pyproject.toml): started\n",
      "  Building wheel for sqlalchemy (pyproject.toml): finished with status 'done'\n",
      "  Created wheel for sqlalchemy: filename=sqlalchemy-1.3.9-cp313-cp313-win_amd64.whl size=1164522 sha256=ac2c81232f204bb418b50fc692e31a9ea35126e2115cc874e5eb4e7918cb6ebf\n",
      "  Stored in directory: c:\\users\\user\\appdata\\local\\pip\\cache\\wheels\\7f\\0c\\92\\6ec5ca28eb22ed22341110143de753ec622045fbfc750edb26\n",
      "Successfully built sqlalchemy\n",
      "Installing collected packages: sqlalchemy\n",
      "Successfully installed sqlalchemy-1.3.9\n"
     ]
    },
    {
     "name": "stderr",
     "output_type": "stream",
     "text": [
      "WARNING: Ignoring invalid distribution ~ip (C:\\Python313\\Lib\\site-packages)\n",
      "WARNING: Ignoring invalid distribution ~ip (C:\\Python313\\Lib\\site-packages)\n"
     ]
    }
   ],
   "source": [
    "!pip install sqlalchemy==1.3.9\n"
   ]
  },
  {
   "cell_type": "markdown",
   "metadata": {},
   "source": [
    "### Connect to the database\n",
    "\n",
    "Let us first load the SQL extension and establish a connection with the database\n"
   ]
  },
  {
   "cell_type": "code",
   "execution_count": 2,
   "metadata": {},
   "outputs": [
    {
     "name": "stdout",
     "output_type": "stream",
     "text": [
      "Defaulting to user installation because normal site-packages is not writeable\n",
      "Collecting ipython-sql\n",
      "  Downloading ipython_sql-0.5.0-py3-none-any.whl.metadata (17 kB)\n",
      "Collecting prettytable (from ipython-sql)\n",
      "  Downloading prettytable-3.16.0-py3-none-any.whl.metadata (33 kB)\n",
      "Requirement already satisfied: ipython in c:\\users\\user\\appdata\\roaming\\python\\python313\\site-packages (from ipython-sql) (9.4.0)\n",
      "Collecting sqlalchemy>=2.0 (from ipython-sql)\n",
      "  Downloading sqlalchemy-2.0.43-cp313-cp313-win_amd64.whl.metadata (9.8 kB)\n",
      "Collecting sqlparse (from ipython-sql)\n",
      "  Downloading sqlparse-0.5.3-py3-none-any.whl.metadata (3.9 kB)\n",
      "Requirement already satisfied: six in c:\\users\\user\\appdata\\roaming\\python\\python313\\site-packages (from ipython-sql) (1.17.0)\n",
      "Collecting ipython-genutils (from ipython-sql)\n",
      "  Downloading ipython_genutils-0.2.0-py2.py3-none-any.whl.metadata (755 bytes)\n",
      "Collecting greenlet>=1 (from sqlalchemy>=2.0->ipython-sql)\n",
      "  Downloading greenlet-3.2.4-cp313-cp313-win_amd64.whl.metadata (4.2 kB)\n",
      "Requirement already satisfied: typing-extensions>=4.6.0 in c:\\python313\\lib\\site-packages (from sqlalchemy>=2.0->ipython-sql) (4.14.0)\n",
      "Requirement already satisfied: colorama in c:\\users\\user\\appdata\\roaming\\python\\python313\\site-packages (from ipython->ipython-sql) (0.4.6)\n",
      "Requirement already satisfied: decorator in c:\\users\\user\\appdata\\roaming\\python\\python313\\site-packages (from ipython->ipython-sql) (5.2.1)\n",
      "Requirement already satisfied: ipython-pygments-lexers in c:\\users\\user\\appdata\\roaming\\python\\python313\\site-packages (from ipython->ipython-sql) (1.1.1)\n",
      "Requirement already satisfied: jedi>=0.16 in c:\\users\\user\\appdata\\roaming\\python\\python313\\site-packages (from ipython->ipython-sql) (0.19.2)\n",
      "Requirement already satisfied: matplotlib-inline in c:\\users\\user\\appdata\\roaming\\python\\python313\\site-packages (from ipython->ipython-sql) (0.1.7)\n",
      "Requirement already satisfied: prompt_toolkit<3.1.0,>=3.0.41 in c:\\users\\user\\appdata\\roaming\\python\\python313\\site-packages (from ipython->ipython-sql) (3.0.51)\n",
      "Requirement already satisfied: pygments>=2.4.0 in c:\\users\\user\\appdata\\roaming\\python\\python313\\site-packages (from ipython->ipython-sql) (2.19.2)\n",
      "Requirement already satisfied: stack_data in c:\\users\\user\\appdata\\roaming\\python\\python313\\site-packages (from ipython->ipython-sql) (0.6.3)\n",
      "Requirement already satisfied: traitlets>=5.13.0 in c:\\users\\user\\appdata\\roaming\\python\\python313\\site-packages (from ipython->ipython-sql) (5.14.3)\n",
      "Requirement already satisfied: wcwidth in c:\\users\\user\\appdata\\roaming\\python\\python313\\site-packages (from prompt_toolkit<3.1.0,>=3.0.41->ipython->ipython-sql) (0.2.13)\n",
      "Requirement already satisfied: parso<0.9.0,>=0.8.4 in c:\\users\\user\\appdata\\roaming\\python\\python313\\site-packages (from jedi>=0.16->ipython->ipython-sql) (0.8.4)\n",
      "Requirement already satisfied: executing>=1.2.0 in c:\\users\\user\\appdata\\roaming\\python\\python313\\site-packages (from stack_data->ipython->ipython-sql) (2.2.0)\n",
      "Requirement already satisfied: asttokens>=2.1.0 in c:\\users\\user\\appdata\\roaming\\python\\python313\\site-packages (from stack_data->ipython->ipython-sql) (3.0.0)\n",
      "Requirement already satisfied: pure-eval in c:\\users\\user\\appdata\\roaming\\python\\python313\\site-packages (from stack_data->ipython->ipython-sql) (0.2.3)\n",
      "Downloading ipython_sql-0.5.0-py3-none-any.whl (20 kB)\n",
      "Downloading sqlalchemy-2.0.43-cp313-cp313-win_amd64.whl (2.1 MB)\n",
      "   ---------------------------------------- 0.0/2.1 MB ? eta -:--:--\n",
      "   ---------------------------------------- 0.0/2.1 MB ? eta -:--:--\n",
      "   ---------------------------------------- 0.0/2.1 MB ? eta -:--:--\n",
      "   ---------------------------------------- 0.0/2.1 MB ? eta -:--:--\n",
      "   ---------------------------------------- 0.0/2.1 MB ? eta -:--:--\n",
      "   ---- ----------------------------------- 0.3/2.1 MB ? eta -:--:--\n",
      "   ---- ----------------------------------- 0.3/2.1 MB ? eta -:--:--\n",
      "   -------------- ------------------------- 0.8/2.1 MB 1.2 MB/s eta 0:00:02\n",
      "   ----------------------------- ---------- 1.6/2.1 MB 1.8 MB/s eta 0:00:01\n",
      "   ----------------------------- ---------- 1.6/2.1 MB 1.8 MB/s eta 0:00:01\n",
      "   ---------------------------------------- 2.1/2.1 MB 1.6 MB/s  0:00:02\n",
      "Downloading greenlet-3.2.4-cp313-cp313-win_amd64.whl (299 kB)\n",
      "Downloading ipython_genutils-0.2.0-py2.py3-none-any.whl (26 kB)\n",
      "Downloading prettytable-3.16.0-py3-none-any.whl (33 kB)\n",
      "Downloading sqlparse-0.5.3-py3-none-any.whl (44 kB)\n",
      "Installing collected packages: ipython-genutils, sqlparse, prettytable, greenlet, sqlalchemy, ipython-sql\n",
      "\n",
      "   ---------------------------------------- 0/6 [ipython-genutils]\n",
      "   ---------------------------------------- 0/6 [ipython-genutils]\n",
      "   ---------------------------------------- 0/6 [ipython-genutils]\n",
      "   ------ --------------------------------- 1/6 [sqlparse]\n",
      "   ------ --------------------------------- 1/6 [sqlparse]\n",
      "   ------ --------------------------------- 1/6 [sqlparse]\n",
      "   ------ --------------------------------- 1/6 [sqlparse]\n",
      "   ------ --------------------------------- 1/6 [sqlparse]\n",
      "   ------ --------------------------------- 1/6 [sqlparse]\n",
      "   ------------- -------------------------- 2/6 [prettytable]\n",
      "   ------------- -------------------------- 2/6 [prettytable]\n",
      "   ------------- -------------------------- 2/6 [prettytable]\n",
      "   -------------------- ------------------- 3/6 [greenlet]\n",
      "   -------------------- ------------------- 3/6 [greenlet]\n",
      "   -------------------- ------------------- 3/6 [greenlet]\n",
      "   -------------------- ------------------- 3/6 [greenlet]\n",
      "   -------------------- ------------------- 3/6 [greenlet]\n",
      "   -------------------- ------------------- 3/6 [greenlet]\n",
      "   -------------------- ------------------- 3/6 [greenlet]\n",
      "   -------------------- ------------------- 3/6 [greenlet]\n",
      "  Attempting uninstall: sqlalchemy\n",
      "   -------------------- ------------------- 3/6 [greenlet]\n",
      "    Found existing installation: SQLAlchemy 1.3.9\n",
      "   -------------------- ------------------- 3/6 [greenlet]\n",
      "    Uninstalling SQLAlchemy-1.3.9:\n",
      "   -------------------- ------------------- 3/6 [greenlet]\n",
      "   -------------------------- ------------- 4/6 [sqlalchemy]\n",
      "      Successfully uninstalled SQLAlchemy-1.3.9\n",
      "   -------------------------- ------------- 4/6 [sqlalchemy]\n",
      "   -------------------------- ------------- 4/6 [sqlalchemy]\n",
      "   -------------------------- ------------- 4/6 [sqlalchemy]\n",
      "   -------------------------- ------------- 4/6 [sqlalchemy]\n",
      "   -------------------------- ------------- 4/6 [sqlalchemy]\n",
      "   -------------------------- ------------- 4/6 [sqlalchemy]\n",
      "   -------------------------- ------------- 4/6 [sqlalchemy]\n",
      "   -------------------------- ------------- 4/6 [sqlalchemy]\n",
      "   -------------------------- ------------- 4/6 [sqlalchemy]\n",
      "   -------------------------- ------------- 4/6 [sqlalchemy]\n",
      "   -------------------------- ------------- 4/6 [sqlalchemy]\n",
      "   -------------------------- ------------- 4/6 [sqlalchemy]\n",
      "   -------------------------- ------------- 4/6 [sqlalchemy]\n",
      "   -------------------------- ------------- 4/6 [sqlalchemy]\n",
      "   -------------------------- ------------- 4/6 [sqlalchemy]\n",
      "   -------------------------- ------------- 4/6 [sqlalchemy]\n",
      "   -------------------------- ------------- 4/6 [sqlalchemy]\n",
      "   -------------------------- ------------- 4/6 [sqlalchemy]\n",
      "   -------------------------- ------------- 4/6 [sqlalchemy]\n",
      "   -------------------------- ------------- 4/6 [sqlalchemy]\n",
      "   -------------------------- ------------- 4/6 [sqlalchemy]\n",
      "   -------------------------- ------------- 4/6 [sqlalchemy]\n",
      "   -------------------------- ------------- 4/6 [sqlalchemy]\n",
      "   -------------------------- ------------- 4/6 [sqlalchemy]\n",
      "   -------------------------- ------------- 4/6 [sqlalchemy]\n",
      "   -------------------------- ------------- 4/6 [sqlalchemy]\n",
      "   -------------------------- ------------- 4/6 [sqlalchemy]\n",
      "   -------------------------- ------------- 4/6 [sqlalchemy]\n",
      "   -------------------------- ------------- 4/6 [sqlalchemy]\n",
      "   -------------------------- ------------- 4/6 [sqlalchemy]\n",
      "   -------------------------- ------------- 4/6 [sqlalchemy]\n",
      "   -------------------------- ------------- 4/6 [sqlalchemy]\n",
      "   -------------------------- ------------- 4/6 [sqlalchemy]\n",
      "   -------------------------- ------------- 4/6 [sqlalchemy]\n",
      "   -------------------------- ------------- 4/6 [sqlalchemy]\n",
      "   -------------------------- ------------- 4/6 [sqlalchemy]\n",
      "   -------------------------- ------------- 4/6 [sqlalchemy]\n",
      "   -------------------------- ------------- 4/6 [sqlalchemy]\n",
      "   -------------------------- ------------- 4/6 [sqlalchemy]\n",
      "   -------------------------- ------------- 4/6 [sqlalchemy]\n",
      "   -------------------------- ------------- 4/6 [sqlalchemy]\n",
      "   -------------------------- ------------- 4/6 [sqlalchemy]\n",
      "   -------------------------- ------------- 4/6 [sqlalchemy]\n",
      "   -------------------------- ------------- 4/6 [sqlalchemy]\n",
      "   -------------------------- ------------- 4/6 [sqlalchemy]\n",
      "   -------------------------- ------------- 4/6 [sqlalchemy]\n",
      "   -------------------------- ------------- 4/6 [sqlalchemy]\n",
      "   -------------------------- ------------- 4/6 [sqlalchemy]\n",
      "   -------------------------- ------------- 4/6 [sqlalchemy]\n",
      "   -------------------------- ------------- 4/6 [sqlalchemy]\n",
      "   -------------------------- ------------- 4/6 [sqlalchemy]\n",
      "   -------------------------- ------------- 4/6 [sqlalchemy]\n",
      "   -------------------------- ------------- 4/6 [sqlalchemy]\n",
      "   -------------------------- ------------- 4/6 [sqlalchemy]\n",
      "   -------------------------- ------------- 4/6 [sqlalchemy]\n",
      "   -------------------------- ------------- 4/6 [sqlalchemy]\n",
      "   -------------------------- ------------- 4/6 [sqlalchemy]\n",
      "   -------------------------- ------------- 4/6 [sqlalchemy]\n",
      "   -------------------------- ------------- 4/6 [sqlalchemy]\n",
      "   -------------------------- ------------- 4/6 [sqlalchemy]\n",
      "   -------------------------- ------------- 4/6 [sqlalchemy]\n",
      "   -------------------------- ------------- 4/6 [sqlalchemy]\n",
      "   -------------------------- ------------- 4/6 [sqlalchemy]\n",
      "   -------------------------- ------------- 4/6 [sqlalchemy]\n",
      "   -------------------------- ------------- 4/6 [sqlalchemy]\n",
      "   -------------------------- ------------- 4/6 [sqlalchemy]\n",
      "   -------------------------- ------------- 4/6 [sqlalchemy]\n",
      "   -------------------------- ------------- 4/6 [sqlalchemy]\n",
      "   -------------------------- ------------- 4/6 [sqlalchemy]\n",
      "   -------------------------- ------------- 4/6 [sqlalchemy]\n",
      "   -------------------------- ------------- 4/6 [sqlalchemy]\n",
      "   -------------------------- ------------- 4/6 [sqlalchemy]\n",
      "   -------------------------- ------------- 4/6 [sqlalchemy]\n",
      "   -------------------------- ------------- 4/6 [sqlalchemy]\n",
      "   -------------------------- ------------- 4/6 [sqlalchemy]\n",
      "   -------------------------- ------------- 4/6 [sqlalchemy]\n",
      "   -------------------------- ------------- 4/6 [sqlalchemy]\n",
      "   -------------------------- ------------- 4/6 [sqlalchemy]\n",
      "   -------------------------- ------------- 4/6 [sqlalchemy]\n",
      "   -------------------------- ------------- 4/6 [sqlalchemy]\n",
      "   -------------------------- ------------- 4/6 [sqlalchemy]\n",
      "   -------------------------- ------------- 4/6 [sqlalchemy]\n",
      "   -------------------------- ------------- 4/6 [sqlalchemy]\n",
      "   -------------------------- ------------- 4/6 [sqlalchemy]\n",
      "   -------------------------- ------------- 4/6 [sqlalchemy]\n",
      "   -------------------------- ------------- 4/6 [sqlalchemy]\n",
      "   -------------------------- ------------- 4/6 [sqlalchemy]\n",
      "   -------------------------- ------------- 4/6 [sqlalchemy]\n",
      "   -------------------------- ------------- 4/6 [sqlalchemy]\n",
      "   -------------------------- ------------- 4/6 [sqlalchemy]\n",
      "   -------------------------- ------------- 4/6 [sqlalchemy]\n",
      "   -------------------------- ------------- 4/6 [sqlalchemy]\n",
      "   -------------------------- ------------- 4/6 [sqlalchemy]\n",
      "   -------------------------- ------------- 4/6 [sqlalchemy]\n",
      "   -------------------------- ------------- 4/6 [sqlalchemy]\n",
      "   -------------------------- ------------- 4/6 [sqlalchemy]\n",
      "   -------------------------- ------------- 4/6 [sqlalchemy]\n",
      "   -------------------------- ------------- 4/6 [sqlalchemy]\n",
      "   -------------------------- ------------- 4/6 [sqlalchemy]\n",
      "   -------------------------- ------------- 4/6 [sqlalchemy]\n",
      "   -------------------------- ------------- 4/6 [sqlalchemy]\n",
      "   -------------------------- ------------- 4/6 [sqlalchemy]\n",
      "   -------------------------- ------------- 4/6 [sqlalchemy]\n",
      "   --------------------------------- ------ 5/6 [ipython-sql]\n",
      "   --------------------------------- ------ 5/6 [ipython-sql]\n",
      "   --------------------------------- ------ 5/6 [ipython-sql]\n",
      "   ---------------------------------------- 6/6 [ipython-sql]\n",
      "\n",
      "Successfully installed greenlet-3.2.4 ipython-genutils-0.2.0 ipython-sql-0.5.0 prettytable-3.16.0 sqlalchemy-2.0.43 sqlparse-0.5.3\n"
     ]
    },
    {
     "name": "stderr",
     "output_type": "stream",
     "text": [
      "WARNING: Ignoring invalid distribution ~ip (C:\\Python313\\Lib\\site-packages)\n",
      "WARNING: Ignoring invalid distribution ~ip (C:\\Python313\\Lib\\site-packages)\n",
      "  WARNING: The script sqlformat.exe is installed in 'C:\\Users\\User\\AppData\\Roaming\\Python\\Python313\\Scripts' which is not on PATH.\n",
      "  Consider adding this directory to PATH or, if you prefer to suppress this warning, use --no-warn-script-location.\n"
     ]
    },
    {
     "name": "stdout",
     "output_type": "stream",
     "text": [
      "Defaulting to user installation because normal site-packages is not writeable\n",
      "Requirement already satisfied: ipython-sql in c:\\users\\user\\appdata\\roaming\\python\\python313\\site-packages (0.5.0)\n",
      "Requirement already satisfied: prettytable in c:\\users\\user\\appdata\\roaming\\python\\python313\\site-packages (3.16.0)\n",
      "Requirement already satisfied: ipython in c:\\users\\user\\appdata\\roaming\\python\\python313\\site-packages (from ipython-sql) (9.4.0)\n",
      "Requirement already satisfied: sqlalchemy>=2.0 in c:\\users\\user\\appdata\\roaming\\python\\python313\\site-packages (from ipython-sql) (2.0.43)\n",
      "Requirement already satisfied: sqlparse in c:\\users\\user\\appdata\\roaming\\python\\python313\\site-packages (from ipython-sql) (0.5.3)\n",
      "Requirement already satisfied: six in c:\\users\\user\\appdata\\roaming\\python\\python313\\site-packages (from ipython-sql) (1.17.0)\n",
      "Requirement already satisfied: ipython-genutils in c:\\users\\user\\appdata\\roaming\\python\\python313\\site-packages (from ipython-sql) (0.2.0)\n",
      "Requirement already satisfied: wcwidth in c:\\users\\user\\appdata\\roaming\\python\\python313\\site-packages (from prettytable) (0.2.13)\n",
      "Requirement already satisfied: greenlet>=1 in c:\\users\\user\\appdata\\roaming\\python\\python313\\site-packages (from sqlalchemy>=2.0->ipython-sql) (3.2.4)\n",
      "Requirement already satisfied: typing-extensions>=4.6.0 in c:\\python313\\lib\\site-packages (from sqlalchemy>=2.0->ipython-sql) (4.14.0)\n",
      "Requirement already satisfied: colorama in c:\\users\\user\\appdata\\roaming\\python\\python313\\site-packages (from ipython->ipython-sql) (0.4.6)\n",
      "Requirement already satisfied: decorator in c:\\users\\user\\appdata\\roaming\\python\\python313\\site-packages (from ipython->ipython-sql) (5.2.1)\n",
      "Requirement already satisfied: ipython-pygments-lexers in c:\\users\\user\\appdata\\roaming\\python\\python313\\site-packages (from ipython->ipython-sql) (1.1.1)\n",
      "Requirement already satisfied: jedi>=0.16 in c:\\users\\user\\appdata\\roaming\\python\\python313\\site-packages (from ipython->ipython-sql) (0.19.2)\n",
      "Requirement already satisfied: matplotlib-inline in c:\\users\\user\\appdata\\roaming\\python\\python313\\site-packages (from ipython->ipython-sql) (0.1.7)\n",
      "Requirement already satisfied: prompt_toolkit<3.1.0,>=3.0.41 in c:\\users\\user\\appdata\\roaming\\python\\python313\\site-packages (from ipython->ipython-sql) (3.0.51)\n",
      "Requirement already satisfied: pygments>=2.4.0 in c:\\users\\user\\appdata\\roaming\\python\\python313\\site-packages (from ipython->ipython-sql) (2.19.2)\n",
      "Requirement already satisfied: stack_data in c:\\users\\user\\appdata\\roaming\\python\\python313\\site-packages (from ipython->ipython-sql) (0.6.3)\n",
      "Requirement already satisfied: traitlets>=5.13.0 in c:\\users\\user\\appdata\\roaming\\python\\python313\\site-packages (from ipython->ipython-sql) (5.14.3)\n",
      "Requirement already satisfied: parso<0.9.0,>=0.8.4 in c:\\users\\user\\appdata\\roaming\\python\\python313\\site-packages (from jedi>=0.16->ipython->ipython-sql) (0.8.4)\n",
      "Requirement already satisfied: executing>=1.2.0 in c:\\users\\user\\appdata\\roaming\\python\\python313\\site-packages (from stack_data->ipython->ipython-sql) (2.2.0)\n",
      "Requirement already satisfied: asttokens>=2.1.0 in c:\\users\\user\\appdata\\roaming\\python\\python313\\site-packages (from stack_data->ipython->ipython-sql) (3.0.0)\n",
      "Requirement already satisfied: pure-eval in c:\\users\\user\\appdata\\roaming\\python\\python313\\site-packages (from stack_data->ipython->ipython-sql) (0.2.3)\n"
     ]
    },
    {
     "name": "stderr",
     "output_type": "stream",
     "text": [
      "WARNING: Ignoring invalid distribution ~ip (C:\\Python313\\Lib\\site-packages)\n",
      "WARNING: Ignoring invalid distribution ~ip (C:\\Python313\\Lib\\site-packages)\n"
     ]
    }
   ],
   "source": [
    "!pip install ipython-sql\n",
    "!pip install ipython-sql prettytable"
   ]
  },
  {
   "cell_type": "code",
   "execution_count": 3,
   "metadata": {},
   "outputs": [],
   "source": [
    "%load_ext sql"
   ]
  },
  {
   "cell_type": "code",
   "execution_count": 4,
   "metadata": {},
   "outputs": [],
   "source": [
    "import csv, sqlite3\n",
    "import prettytable\n",
    "prettytable.DEFAULT = 'DEFAULT'\n",
    "\n",
    "con = sqlite3.connect(\"my_data1.db\")\n",
    "cur = con.cursor()"
   ]
  },
  {
   "cell_type": "code",
   "execution_count": 5,
   "metadata": {},
   "outputs": [
    {
     "name": "stderr",
     "output_type": "stream",
     "text": [
      "WARNING: Ignoring invalid distribution ~ip (C:\\Python313\\Lib\\site-packages)\n",
      "WARNING: Ignoring invalid distribution ~ip (C:\\Python313\\Lib\\site-packages)\n"
     ]
    }
   ],
   "source": [
    "!pip install -q pandas"
   ]
  },
  {
   "cell_type": "code",
   "execution_count": 6,
   "metadata": {},
   "outputs": [],
   "source": [
    "%sql sqlite:///my_data1.db"
   ]
  },
  {
   "cell_type": "code",
   "execution_count": 7,
   "metadata": {},
   "outputs": [
    {
     "data": {
      "text/plain": [
       "101"
      ]
     },
     "execution_count": 7,
     "metadata": {},
     "output_type": "execute_result"
    }
   ],
   "source": [
    "import pandas as pd\n",
    "df = pd.read_csv(\"https://cf-courses-data.s3.us.cloud-object-storage.appdomain.cloud/IBM-DS0321EN-SkillsNetwork/labs/module_2/data/Spacex.csv\")\n",
    "df.to_sql(\"SPACEXTBL\", con, if_exists='replace', index=False,method=\"multi\")"
   ]
  },
  {
   "cell_type": "code",
   "execution_count": 11,
   "metadata": {},
   "outputs": [
    {
     "name": "stdout",
     "output_type": "stream",
     "text": [
      "           Date Time (UTC) Booster_Version   Launch_Site  \\\n",
      "0    2010-06-04   18:45:00  F9 v1.0  B0003   CCAFS LC-40   \n",
      "1    2010-12-08   15:43:00  F9 v1.0  B0004   CCAFS LC-40   \n",
      "2    2012-05-22    7:44:00  F9 v1.0  B0005   CCAFS LC-40   \n",
      "3    2012-10-08    0:35:00  F9 v1.0  B0006   CCAFS LC-40   \n",
      "4    2013-03-01   15:10:00  F9 v1.0  B0007   CCAFS LC-40   \n",
      "..          ...        ...             ...           ...   \n",
      "96   2020-11-05   23:24:23    F9 B5B1062.1  CCAFS SLC-40   \n",
      "97   2020-11-16    0:27:00   F9 B5B1061.1     KSC LC-39A   \n",
      "98   2020-11-21   17:17:08    F9 B5B1063.1   VAFB SLC-4E   \n",
      "99   2020-11-25    2:13:00  F9 B5 B1049.7   CCAFS SLC-40   \n",
      "100  2020-12-06   16:17:08  F9 B5 B1058.4     KSC LC-39A   \n",
      "\n",
      "                                               Payload  PAYLOAD_MASS__KG_  \\\n",
      "0                 Dragon Spacecraft Qualification Unit                  0   \n",
      "1    Dragon demo flight C1, two CubeSats, barrel of...                  0   \n",
      "2                                Dragon demo flight C2                525   \n",
      "3                                         SpaceX CRS-1                500   \n",
      "4                                         SpaceX CRS-2                677   \n",
      "..                                                 ...                ...   \n",
      "96                                 GPS III-04 , Crew-1               4311   \n",
      "97                Crew-1, Sentinel-6 Michael Freilich               12500   \n",
      "98      Sentinel-6 Michael Freilich, Starlink 15 v1.0                1192   \n",
      "99                     Starlink 15 v1.0, SpaceX CRS-21              15600   \n",
      "100                                      SpaceX CRS-21               2972   \n",
      "\n",
      "         Orbit                      Customer Mission_Outcome  \\\n",
      "0          LEO                        SpaceX         Success   \n",
      "1    LEO (ISS)               NASA (COTS) NRO         Success   \n",
      "2    LEO (ISS)                   NASA (COTS)         Success   \n",
      "3    LEO (ISS)                    NASA (CRS)         Success   \n",
      "4    LEO (ISS)                    NASA (CRS)         Success   \n",
      "..         ...                           ...             ...   \n",
      "96         MEO                          USSF         Success   \n",
      "97   LEO (ISS)                    NASA (CCP)         Success   \n",
      "98         LEO  NASA / NOAA / ESA / EUMETSAT         Success   \n",
      "99         LEO                        SpaceX         Success   \n",
      "100  LEO (ISS)                    NASA (CRS)         Success   \n",
      "\n",
      "         Landing_Outcome  \n",
      "0    Failure (parachute)  \n",
      "1    Failure (parachute)  \n",
      "2             No attempt  \n",
      "3             No attempt  \n",
      "4             No attempt  \n",
      "..                   ...  \n",
      "96               Success  \n",
      "97               Success  \n",
      "98               Success  \n",
      "99               Success  \n",
      "100              Success  \n",
      "\n",
      "[101 rows x 10 columns]\n"
     ]
    }
   ],
   "source": [
    "print(df)"
   ]
  },
  {
   "cell_type": "markdown",
   "metadata": {},
   "source": [
    "**Note:This below code is added to remove blank rows from table**\n"
   ]
  },
  {
   "cell_type": "code",
   "execution_count": 8,
   "metadata": {},
   "outputs": [
    {
     "name": "stdout",
     "output_type": "stream",
     "text": [
      " * sqlite:///my_data1.db\n",
      "Done.\n"
     ]
    },
    {
     "data": {
      "text/plain": [
       "[]"
      ]
     },
     "execution_count": 8,
     "metadata": {},
     "output_type": "execute_result"
    }
   ],
   "source": [
    "#DROP THE TABLE IF EXISTS\n",
    "\n",
    "%sql DROP TABLE IF EXISTS SPACEXTABLE;"
   ]
  },
  {
   "cell_type": "code",
   "execution_count": 9,
   "metadata": {},
   "outputs": [
    {
     "name": "stdout",
     "output_type": "stream",
     "text": [
      " * sqlite:///my_data1.db\n",
      "Done.\n"
     ]
    },
    {
     "data": {
      "text/plain": [
       "[]"
      ]
     },
     "execution_count": 9,
     "metadata": {},
     "output_type": "execute_result"
    }
   ],
   "source": [
    "%sql create table SPACEXTABLE as select * from SPACEXTBL where Date is not null"
   ]
  },
  {
   "cell_type": "markdown",
   "metadata": {},
   "source": [
    "## Tasks\n",
    "\n",
    "Now write and execute SQL queries to solve the assignment tasks.\n",
    "\n",
    "**Note: If the column names are in mixed case enclose it in double quotes\n",
    "   For Example \"Landing_Outcome\"**\n",
    "\n",
    "### Task 1\n",
    "\n",
    "\n",
    "\n",
    "\n",
    "##### Display the names of the unique launch sites  in the space mission\n"
   ]
  },
  {
   "cell_type": "code",
   "execution_count": 10,
   "metadata": {},
   "outputs": [
    {
     "ename": "SyntaxError",
     "evalue": "invalid syntax (1255124713.py, line 1)",
     "output_type": "error",
     "traceback": [
      "  \u001b[36mCell\u001b[39m\u001b[36m \u001b[39m\u001b[32mIn[10]\u001b[39m\u001b[32m, line 1\u001b[39m\n\u001b[31m    \u001b[39m\u001b[31mSELECT year,\u001b[39m\n           ^\n\u001b[31mSyntaxError\u001b[39m\u001b[31m:\u001b[39m invalid syntax\n"
     ]
    }
   ],
   "source": [
    "SELECT year,\n",
    "       COUNT(*) AS launches,\n",
    "       SUM(class) * 1.0 / COUNT(*) AS success_rate\n",
    "FROM launches\n",
    "GROUP BY year\n",
    "ORDER BY year;"
   ]
  },
  {
   "cell_type": "code",
   "execution_count": 12,
   "metadata": {},
   "outputs": [
    {
     "data": {
      "text/plain": [
       "90"
      ]
     },
     "execution_count": 12,
     "metadata": {},
     "output_type": "execute_result"
    }
   ],
   "source": [
    "import pandas as pd, sqlite3 as sql, numpy as np\n",
    "\n",
    "# Load raw CSV (or keep your df if it already exists)\n",
    "df = pd.read_csv(\"https://cf-courses-data.s3.us.cloud-object-storage.appdomain.cloud/IBM-DS0321EN-SkillsNetwork/datasets/dataset_part_2.csv\")\n",
    "\n",
    "# Harmonize a few columns to simple names used below\n",
    "df = df.rename(columns={\n",
    "    \"Date\": \"date\",\n",
    "    \"BoosterVersion\": \"booster_version\",\n",
    "    \"LaunchSite\": \"launch_site\",\n",
    "    \"PayloadMass\": \"payload_kg\",\n",
    "    \"Orbit\": \"orbit\",\n",
    "    \"Outcome\": \"outcome\",\n",
    "    \"class\": \"class\"\n",
    "})\n",
    "\n",
    "# Create handy fields\n",
    "df[\"year\"] = df[\"date\"].str[:4].astype(int)\n",
    "df[\"payload_bucket\"] = pd.cut(df[\"payload_kg\"], [-1, 0, 2000, 4000, 8000, 16000, np.inf],\n",
    "                              labels=[\"0\", \"0–2t\",\"2–4t\",\"4–8t\",\"8–16t\",\">16t\"])\n",
    "\n",
    "# SQLite in-memory DB and table\n",
    "con = sql.connect(\":memory:\")\n",
    "df.to_sql(\"launches\", con, index=False, if_exists=\"replace\")\n"
   ]
  },
  {
   "cell_type": "code",
   "execution_count": 14,
   "metadata": {},
   "outputs": [
    {
     "data": {
      "text/html": [
       "<div>\n",
       "<style scoped>\n",
       "    .dataframe tbody tr th:only-of-type {\n",
       "        vertical-align: middle;\n",
       "    }\n",
       "\n",
       "    .dataframe tbody tr th {\n",
       "        vertical-align: top;\n",
       "    }\n",
       "\n",
       "    .dataframe thead th {\n",
       "        text-align: right;\n",
       "    }\n",
       "</style>\n",
       "<table border=\"1\" class=\"dataframe\">\n",
       "  <thead>\n",
       "    <tr style=\"text-align: right;\">\n",
       "      <th></th>\n",
       "      <th>year</th>\n",
       "      <th>launches</th>\n",
       "      <th>success_rate</th>\n",
       "    </tr>\n",
       "  </thead>\n",
       "  <tbody>\n",
       "    <tr>\n",
       "      <th>0</th>\n",
       "      <td>2010</td>\n",
       "      <td>1</td>\n",
       "      <td>0.000</td>\n",
       "    </tr>\n",
       "    <tr>\n",
       "      <th>1</th>\n",
       "      <td>2012</td>\n",
       "      <td>1</td>\n",
       "      <td>0.000</td>\n",
       "    </tr>\n",
       "    <tr>\n",
       "      <th>2</th>\n",
       "      <td>2013</td>\n",
       "      <td>3</td>\n",
       "      <td>0.000</td>\n",
       "    </tr>\n",
       "    <tr>\n",
       "      <th>3</th>\n",
       "      <td>2014</td>\n",
       "      <td>6</td>\n",
       "      <td>0.333</td>\n",
       "    </tr>\n",
       "    <tr>\n",
       "      <th>4</th>\n",
       "      <td>2015</td>\n",
       "      <td>6</td>\n",
       "      <td>0.333</td>\n",
       "    </tr>\n",
       "    <tr>\n",
       "      <th>5</th>\n",
       "      <td>2016</td>\n",
       "      <td>8</td>\n",
       "      <td>0.625</td>\n",
       "    </tr>\n",
       "    <tr>\n",
       "      <th>6</th>\n",
       "      <td>2017</td>\n",
       "      <td>18</td>\n",
       "      <td>0.833</td>\n",
       "    </tr>\n",
       "    <tr>\n",
       "      <th>7</th>\n",
       "      <td>2018</td>\n",
       "      <td>18</td>\n",
       "      <td>0.611</td>\n",
       "    </tr>\n",
       "    <tr>\n",
       "      <th>8</th>\n",
       "      <td>2019</td>\n",
       "      <td>10</td>\n",
       "      <td>0.900</td>\n",
       "    </tr>\n",
       "    <tr>\n",
       "      <th>9</th>\n",
       "      <td>2020</td>\n",
       "      <td>19</td>\n",
       "      <td>0.842</td>\n",
       "    </tr>\n",
       "  </tbody>\n",
       "</table>\n",
       "</div>"
      ],
      "text/plain": [
       "   year  launches  success_rate\n",
       "0  2010         1         0.000\n",
       "1  2012         1         0.000\n",
       "2  2013         3         0.000\n",
       "3  2014         6         0.333\n",
       "4  2015         6         0.333\n",
       "5  2016         8         0.625\n",
       "6  2017        18         0.833\n",
       "7  2018        18         0.611\n",
       "8  2019        10         0.900\n",
       "9  2020        19         0.842"
      ]
     },
     "execution_count": 14,
     "metadata": {},
     "output_type": "execute_result"
    }
   ],
   "source": [
    "sql1 = \"\"\"\n",
    "SELECT year,\n",
    "       COUNT(*)                                     AS launches,\n",
    "       ROUND(SUM(class)*1.0 / COUNT(*), 3)          AS success_rate\n",
    "FROM launches\n",
    "GROUP BY year\n",
    "ORDER BY year;\n",
    "\"\"\"\n",
    "q1 = pd.read_sql(sql1, con)\n",
    "q1\n"
   ]
  },
  {
   "cell_type": "code",
   "execution_count": 18,
   "metadata": {},
   "outputs": [],
   "source": [
    "sql1 = \"\"\"\n",
    "    SELECT reused,\n",
    "            reusedcount,\n",
    "            COUNT(*) AS launches,\n",
    "            ROUND(AVG(class), 3) AS success_rate\n",
    "     FROM launches\n",
    "     GROUP BY reused, reusedcount\n",
    "     ORDER BY reused, reusedcount;\n",
    "\"\"\""
   ]
  },
  {
   "cell_type": "code",
   "execution_count": 21,
   "metadata": {},
   "outputs": [
    {
     "data": {
      "text/html": [
       "<div>\n",
       "<style scoped>\n",
       "    .dataframe tbody tr th:only-of-type {\n",
       "        vertical-align: middle;\n",
       "    }\n",
       "\n",
       "    .dataframe tbody tr th {\n",
       "        vertical-align: top;\n",
       "    }\n",
       "\n",
       "    .dataframe thead th {\n",
       "        text-align: right;\n",
       "    }\n",
       "</style>\n",
       "<table border=\"1\" class=\"dataframe\">\n",
       "  <thead>\n",
       "    <tr style=\"text-align: right;\">\n",
       "      <th></th>\n",
       "      <th>Reused</th>\n",
       "      <th>ReusedCount</th>\n",
       "      <th>launches</th>\n",
       "      <th>success_rate</th>\n",
       "    </tr>\n",
       "  </thead>\n",
       "  <tbody>\n",
       "    <tr>\n",
       "      <th>0</th>\n",
       "      <td>0</td>\n",
       "      <td>0</td>\n",
       "      <td>30</td>\n",
       "      <td>0.267</td>\n",
       "    </tr>\n",
       "    <tr>\n",
       "      <th>1</th>\n",
       "      <td>0</td>\n",
       "      <td>1</td>\n",
       "      <td>14</td>\n",
       "      <td>1.000</td>\n",
       "    </tr>\n",
       "    <tr>\n",
       "      <th>2</th>\n",
       "      <td>0</td>\n",
       "      <td>2</td>\n",
       "      <td>3</td>\n",
       "      <td>1.000</td>\n",
       "    </tr>\n",
       "    <tr>\n",
       "      <th>3</th>\n",
       "      <td>0</td>\n",
       "      <td>3</td>\n",
       "      <td>3</td>\n",
       "      <td>1.000</td>\n",
       "    </tr>\n",
       "    <tr>\n",
       "      <th>4</th>\n",
       "      <td>0</td>\n",
       "      <td>4</td>\n",
       "      <td>1</td>\n",
       "      <td>1.000</td>\n",
       "    </tr>\n",
       "    <tr>\n",
       "      <th>5</th>\n",
       "      <td>0</td>\n",
       "      <td>5</td>\n",
       "      <td>2</td>\n",
       "      <td>1.000</td>\n",
       "    </tr>\n",
       "    <tr>\n",
       "      <th>6</th>\n",
       "      <td>1</td>\n",
       "      <td>1</td>\n",
       "      <td>10</td>\n",
       "      <td>0.600</td>\n",
       "    </tr>\n",
       "    <tr>\n",
       "      <th>7</th>\n",
       "      <td>1</td>\n",
       "      <td>2</td>\n",
       "      <td>6</td>\n",
       "      <td>0.833</td>\n",
       "    </tr>\n",
       "    <tr>\n",
       "      <th>8</th>\n",
       "      <td>1</td>\n",
       "      <td>3</td>\n",
       "      <td>9</td>\n",
       "      <td>0.778</td>\n",
       "    </tr>\n",
       "    <tr>\n",
       "      <th>9</th>\n",
       "      <td>1</td>\n",
       "      <td>4</td>\n",
       "      <td>3</td>\n",
       "      <td>0.667</td>\n",
       "    </tr>\n",
       "    <tr>\n",
       "      <th>10</th>\n",
       "      <td>1</td>\n",
       "      <td>5</td>\n",
       "      <td>9</td>\n",
       "      <td>1.000</td>\n",
       "    </tr>\n",
       "  </tbody>\n",
       "</table>\n",
       "</div>"
      ],
      "text/plain": [
       "    Reused  ReusedCount  launches  success_rate\n",
       "0        0            0        30         0.267\n",
       "1        0            1        14         1.000\n",
       "2        0            2         3         1.000\n",
       "3        0            3         3         1.000\n",
       "4        0            4         1         1.000\n",
       "5        0            5         2         1.000\n",
       "6        1            1        10         0.600\n",
       "7        1            2         6         0.833\n",
       "8        1            3         9         0.778\n",
       "9        1            4         3         0.667\n",
       "10       1            5         9         1.000"
      ]
     },
     "execution_count": 21,
     "metadata": {},
     "output_type": "execute_result"
    }
   ],
   "source": [
    "q2 = pd.read_sql(sql1, con)\n",
    "q2"
   ]
  },
  {
   "cell_type": "code",
   "execution_count": 35,
   "metadata": {},
   "outputs": [],
   "source": [
    "sql1 = \"\"\"\n",
    "    SELECT date, launch_site, orbit, payload_kg\n",
    "    FROM launches\n",
    "    WHERE class = 0\n",
    "    ORDER BY payload_mass_kg DESC\n",
    "    LIMIT 10;\n",
    "\"\"\""
   ]
  },
  {
   "cell_type": "code",
   "execution_count": 40,
   "metadata": {},
   "outputs": [
    {
     "data": {
      "text/plain": [
       "90"
      ]
     },
     "execution_count": 40,
     "metadata": {},
     "output_type": "execute_result"
    }
   ],
   "source": [
    "df.to_sql('launches', con, if_exists='replace', index=False)"
   ]
  },
  {
   "cell_type": "code",
   "execution_count": 41,
   "metadata": {},
   "outputs": [],
   "source": [
    "sql1 = \"\"\"\n",
    "SELECT year,\n",
    "       COUNT(*)                                   AS launches,\n",
    "       ROUND(SUM(class)*1.0/COUNT(*), 3)         AS success_rate,\n",
    "       AVG(payload_kg)                            AS avg_payload_kg\n",
    "FROM launches\n",
    "GROUP BY year\n",
    "ORDER BY year;\n",
    "\"\"\"\n"
   ]
  },
  {
   "cell_type": "code",
   "execution_count": 42,
   "metadata": {},
   "outputs": [
    {
     "data": {
      "text/html": [
       "<div>\n",
       "<style scoped>\n",
       "    .dataframe tbody tr th:only-of-type {\n",
       "        vertical-align: middle;\n",
       "    }\n",
       "\n",
       "    .dataframe tbody tr th {\n",
       "        vertical-align: top;\n",
       "    }\n",
       "\n",
       "    .dataframe thead th {\n",
       "        text-align: right;\n",
       "    }\n",
       "</style>\n",
       "<table border=\"1\" class=\"dataframe\">\n",
       "  <thead>\n",
       "    <tr style=\"text-align: right;\">\n",
       "      <th></th>\n",
       "      <th>year</th>\n",
       "      <th>launches</th>\n",
       "      <th>success_rate</th>\n",
       "      <th>avg_payload_kg</th>\n",
       "    </tr>\n",
       "  </thead>\n",
       "  <tbody>\n",
       "    <tr>\n",
       "      <th>0</th>\n",
       "      <td>2010</td>\n",
       "      <td>1</td>\n",
       "      <td>0.000</td>\n",
       "      <td>6104.959412</td>\n",
       "    </tr>\n",
       "    <tr>\n",
       "      <th>1</th>\n",
       "      <td>2012</td>\n",
       "      <td>1</td>\n",
       "      <td>0.000</td>\n",
       "      <td>525.000000</td>\n",
       "    </tr>\n",
       "    <tr>\n",
       "      <th>2</th>\n",
       "      <td>2013</td>\n",
       "      <td>3</td>\n",
       "      <td>0.000</td>\n",
       "      <td>1449.000000</td>\n",
       "    </tr>\n",
       "    <tr>\n",
       "      <th>3</th>\n",
       "      <td>2014</td>\n",
       "      <td>6</td>\n",
       "      <td>0.333</td>\n",
       "      <td>3019.333333</td>\n",
       "    </tr>\n",
       "    <tr>\n",
       "      <th>4</th>\n",
       "      <td>2015</td>\n",
       "      <td>6</td>\n",
       "      <td>0.333</td>\n",
       "      <td>2346.833333</td>\n",
       "    </tr>\n",
       "    <tr>\n",
       "      <th>5</th>\n",
       "      <td>2016</td>\n",
       "      <td>8</td>\n",
       "      <td>0.625</td>\n",
       "      <td>3639.125000</td>\n",
       "    </tr>\n",
       "    <tr>\n",
       "      <th>6</th>\n",
       "      <td>2017</td>\n",
       "      <td>18</td>\n",
       "      <td>0.833</td>\n",
       "      <td>5365.719967</td>\n",
       "    </tr>\n",
       "    <tr>\n",
       "      <th>7</th>\n",
       "      <td>2018</td>\n",
       "      <td>18</td>\n",
       "      <td>0.611</td>\n",
       "      <td>4832.767190</td>\n",
       "    </tr>\n",
       "    <tr>\n",
       "      <th>8</th>\n",
       "      <td>2019</td>\n",
       "      <td>10</td>\n",
       "      <td>0.900</td>\n",
       "      <td>7551.370000</td>\n",
       "    </tr>\n",
       "    <tr>\n",
       "      <th>9</th>\n",
       "      <td>2020</td>\n",
       "      <td>19</td>\n",
       "      <td>0.842</td>\n",
       "      <td>11477.522043</td>\n",
       "    </tr>\n",
       "  </tbody>\n",
       "</table>\n",
       "</div>"
      ],
      "text/plain": [
       "   year  launches  success_rate  avg_payload_kg\n",
       "0  2010         1         0.000     6104.959412\n",
       "1  2012         1         0.000      525.000000\n",
       "2  2013         3         0.000     1449.000000\n",
       "3  2014         6         0.333     3019.333333\n",
       "4  2015         6         0.333     2346.833333\n",
       "5  2016         8         0.625     3639.125000\n",
       "6  2017        18         0.833     5365.719967\n",
       "7  2018        18         0.611     4832.767190\n",
       "8  2019        10         0.900     7551.370000\n",
       "9  2020        19         0.842    11477.522043"
      ]
     },
     "execution_count": 42,
     "metadata": {},
     "output_type": "execute_result"
    }
   ],
   "source": [
    "q4 = pd.read_sql(sql1, con)\n",
    "q4"
   ]
  },
  {
   "cell_type": "code",
   "execution_count": 39,
   "metadata": {},
   "outputs": [
    {
     "ename": "DatabaseError",
     "evalue": "Execution failed on sql '\n    SELECT date, launch_site, orbit, payload_kg\n    FROM launches\n    WHERE class = 0\n    ORDER BY payload_mass_kg DESC\n    LIMIT 10;\n': no such column: payload_mass_kg",
     "output_type": "error",
     "traceback": [
      "\u001b[31m---------------------------------------------------------------------------\u001b[39m",
      "\u001b[31mOperationalError\u001b[39m                          Traceback (most recent call last)",
      "\u001b[36mFile \u001b[39m\u001b[32m~\\AppData\\Roaming\\Python\\Python313\\site-packages\\pandas\\io\\sql.py:2664\u001b[39m, in \u001b[36mSQLiteDatabase.execute\u001b[39m\u001b[34m(self, sql, params)\u001b[39m\n\u001b[32m   2663\u001b[39m \u001b[38;5;28;01mtry\u001b[39;00m:\n\u001b[32m-> \u001b[39m\u001b[32m2664\u001b[39m     \u001b[43mcur\u001b[49m\u001b[43m.\u001b[49m\u001b[43mexecute\u001b[49m\u001b[43m(\u001b[49m\u001b[43msql\u001b[49m\u001b[43m,\u001b[49m\u001b[43m \u001b[49m\u001b[43m*\u001b[49m\u001b[43margs\u001b[49m\u001b[43m)\u001b[49m\n\u001b[32m   2665\u001b[39m     \u001b[38;5;28;01mreturn\u001b[39;00m cur\n",
      "\u001b[31mOperationalError\u001b[39m: no such column: payload_mass_kg",
      "\nThe above exception was the direct cause of the following exception:\n",
      "\u001b[31mDatabaseError\u001b[39m                             Traceback (most recent call last)",
      "\u001b[36mCell\u001b[39m\u001b[36m \u001b[39m\u001b[32mIn[39]\u001b[39m\u001b[32m, line 1\u001b[39m\n\u001b[32m----> \u001b[39m\u001b[32m1\u001b[39m df = \u001b[43mpd\u001b[49m\u001b[43m.\u001b[49m\u001b[43mread_sql\u001b[49m\u001b[43m(\u001b[49m\u001b[43msql1\u001b[49m\u001b[43m,\u001b[49m\u001b[43m \u001b[49m\u001b[43mcon\u001b[49m\u001b[43m)\u001b[49m\n\u001b[32m      2\u001b[39m df\n",
      "\u001b[36mFile \u001b[39m\u001b[32m~\\AppData\\Roaming\\Python\\Python313\\site-packages\\pandas\\io\\sql.py:708\u001b[39m, in \u001b[36mread_sql\u001b[39m\u001b[34m(sql, con, index_col, coerce_float, params, parse_dates, columns, chunksize, dtype_backend, dtype)\u001b[39m\n\u001b[32m    706\u001b[39m \u001b[38;5;28;01mwith\u001b[39;00m pandasSQL_builder(con) \u001b[38;5;28;01mas\u001b[39;00m pandas_sql:\n\u001b[32m    707\u001b[39m     \u001b[38;5;28;01mif\u001b[39;00m \u001b[38;5;28misinstance\u001b[39m(pandas_sql, SQLiteDatabase):\n\u001b[32m--> \u001b[39m\u001b[32m708\u001b[39m         \u001b[38;5;28;01mreturn\u001b[39;00m \u001b[43mpandas_sql\u001b[49m\u001b[43m.\u001b[49m\u001b[43mread_query\u001b[49m\u001b[43m(\u001b[49m\n\u001b[32m    709\u001b[39m \u001b[43m            \u001b[49m\u001b[43msql\u001b[49m\u001b[43m,\u001b[49m\n\u001b[32m    710\u001b[39m \u001b[43m            \u001b[49m\u001b[43mindex_col\u001b[49m\u001b[43m=\u001b[49m\u001b[43mindex_col\u001b[49m\u001b[43m,\u001b[49m\n\u001b[32m    711\u001b[39m \u001b[43m            \u001b[49m\u001b[43mparams\u001b[49m\u001b[43m=\u001b[49m\u001b[43mparams\u001b[49m\u001b[43m,\u001b[49m\n\u001b[32m    712\u001b[39m \u001b[43m            \u001b[49m\u001b[43mcoerce_float\u001b[49m\u001b[43m=\u001b[49m\u001b[43mcoerce_float\u001b[49m\u001b[43m,\u001b[49m\n\u001b[32m    713\u001b[39m \u001b[43m            \u001b[49m\u001b[43mparse_dates\u001b[49m\u001b[43m=\u001b[49m\u001b[43mparse_dates\u001b[49m\u001b[43m,\u001b[49m\n\u001b[32m    714\u001b[39m \u001b[43m            \u001b[49m\u001b[43mchunksize\u001b[49m\u001b[43m=\u001b[49m\u001b[43mchunksize\u001b[49m\u001b[43m,\u001b[49m\n\u001b[32m    715\u001b[39m \u001b[43m            \u001b[49m\u001b[43mdtype_backend\u001b[49m\u001b[43m=\u001b[49m\u001b[43mdtype_backend\u001b[49m\u001b[43m,\u001b[49m\n\u001b[32m    716\u001b[39m \u001b[43m            \u001b[49m\u001b[43mdtype\u001b[49m\u001b[43m=\u001b[49m\u001b[43mdtype\u001b[49m\u001b[43m,\u001b[49m\n\u001b[32m    717\u001b[39m \u001b[43m        \u001b[49m\u001b[43m)\u001b[49m\n\u001b[32m    719\u001b[39m     \u001b[38;5;28;01mtry\u001b[39;00m:\n\u001b[32m    720\u001b[39m         _is_table_name = pandas_sql.has_table(sql)\n",
      "\u001b[36mFile \u001b[39m\u001b[32m~\\AppData\\Roaming\\Python\\Python313\\site-packages\\pandas\\io\\sql.py:2728\u001b[39m, in \u001b[36mSQLiteDatabase.read_query\u001b[39m\u001b[34m(self, sql, index_col, coerce_float, parse_dates, params, chunksize, dtype, dtype_backend)\u001b[39m\n\u001b[32m   2717\u001b[39m \u001b[38;5;28;01mdef\u001b[39;00m\u001b[38;5;250m \u001b[39m\u001b[34mread_query\u001b[39m(\n\u001b[32m   2718\u001b[39m     \u001b[38;5;28mself\u001b[39m,\n\u001b[32m   2719\u001b[39m     sql,\n\u001b[32m   (...)\u001b[39m\u001b[32m   2726\u001b[39m     dtype_backend: DtypeBackend | Literal[\u001b[33m\"\u001b[39m\u001b[33mnumpy\u001b[39m\u001b[33m\"\u001b[39m] = \u001b[33m\"\u001b[39m\u001b[33mnumpy\u001b[39m\u001b[33m\"\u001b[39m,\n\u001b[32m   2727\u001b[39m ) -> DataFrame | Iterator[DataFrame]:\n\u001b[32m-> \u001b[39m\u001b[32m2728\u001b[39m     cursor = \u001b[38;5;28;43mself\u001b[39;49m\u001b[43m.\u001b[49m\u001b[43mexecute\u001b[49m\u001b[43m(\u001b[49m\u001b[43msql\u001b[49m\u001b[43m,\u001b[49m\u001b[43m \u001b[49m\u001b[43mparams\u001b[49m\u001b[43m)\u001b[49m\n\u001b[32m   2729\u001b[39m     columns = [col_desc[\u001b[32m0\u001b[39m] \u001b[38;5;28;01mfor\u001b[39;00m col_desc \u001b[38;5;129;01min\u001b[39;00m cursor.description]\n\u001b[32m   2731\u001b[39m     \u001b[38;5;28;01mif\u001b[39;00m chunksize \u001b[38;5;129;01mis\u001b[39;00m \u001b[38;5;129;01mnot\u001b[39;00m \u001b[38;5;28;01mNone\u001b[39;00m:\n",
      "\u001b[36mFile \u001b[39m\u001b[32m~\\AppData\\Roaming\\Python\\Python313\\site-packages\\pandas\\io\\sql.py:2676\u001b[39m, in \u001b[36mSQLiteDatabase.execute\u001b[39m\u001b[34m(self, sql, params)\u001b[39m\n\u001b[32m   2673\u001b[39m     \u001b[38;5;28;01mraise\u001b[39;00m ex \u001b[38;5;28;01mfrom\u001b[39;00m\u001b[38;5;250m \u001b[39m\u001b[34;01minner_exc\u001b[39;00m\n\u001b[32m   2675\u001b[39m ex = DatabaseError(\u001b[33mf\u001b[39m\u001b[33m\"\u001b[39m\u001b[33mExecution failed on sql \u001b[39m\u001b[33m'\u001b[39m\u001b[38;5;132;01m{\u001b[39;00msql\u001b[38;5;132;01m}\u001b[39;00m\u001b[33m'\u001b[39m\u001b[33m: \u001b[39m\u001b[38;5;132;01m{\u001b[39;00mexc\u001b[38;5;132;01m}\u001b[39;00m\u001b[33m\"\u001b[39m)\n\u001b[32m-> \u001b[39m\u001b[32m2676\u001b[39m \u001b[38;5;28;01mraise\u001b[39;00m ex \u001b[38;5;28;01mfrom\u001b[39;00m\u001b[38;5;250m \u001b[39m\u001b[34;01mexc\u001b[39;00m\n",
      "\u001b[31mDatabaseError\u001b[39m: Execution failed on sql '\n    SELECT date, launch_site, orbit, payload_kg\n    FROM launches\n    WHERE class = 0\n    ORDER BY payload_mass_kg DESC\n    LIMIT 10;\n': no such column: payload_mass_kg"
     ]
    }
   ],
   "source": [
    "df = pd.read_sql(sql1, con)\n",
    "df"
   ]
  },
  {
   "cell_type": "markdown",
   "metadata": {},
   "source": [
    "\n",
    "### Task 2\n",
    "\n",
    "\n",
    "#####  Display 5 records where launch sites begin with the string 'CCA' \n"
   ]
  },
  {
   "cell_type": "code",
   "execution_count": null,
   "metadata": {},
   "outputs": [],
   "source": []
  },
  {
   "cell_type": "markdown",
   "metadata": {},
   "source": [
    "### Task 3\n",
    "\n",
    "\n",
    "\n",
    "\n",
    "##### Display the total payload mass carried by boosters launched by NASA (CRS)\n"
   ]
  },
  {
   "cell_type": "code",
   "execution_count": null,
   "metadata": {},
   "outputs": [],
   "source": []
  },
  {
   "cell_type": "markdown",
   "metadata": {},
   "source": [
    "### Task 4\n",
    "\n",
    "\n",
    "\n",
    "\n",
    "##### Display average payload mass carried by booster version F9 v1.1\n"
   ]
  },
  {
   "cell_type": "code",
   "execution_count": null,
   "metadata": {},
   "outputs": [],
   "source": []
  },
  {
   "cell_type": "markdown",
   "metadata": {},
   "source": [
    "### Task 5\n",
    "\n",
    "##### List the date when the first succesful landing outcome in ground pad was acheived.\n",
    "\n",
    "\n",
    "_Hint:Use min function_ \n"
   ]
  },
  {
   "cell_type": "code",
   "execution_count": null,
   "metadata": {},
   "outputs": [],
   "source": []
  },
  {
   "cell_type": "markdown",
   "metadata": {},
   "source": [
    "### Task 6\n",
    "\n",
    "##### List the names of the boosters which have success in drone ship and have payload mass greater than 4000 but less than 6000\n"
   ]
  },
  {
   "cell_type": "code",
   "execution_count": null,
   "metadata": {},
   "outputs": [],
   "source": []
  },
  {
   "cell_type": "markdown",
   "metadata": {},
   "source": [
    "### Task 7\n",
    "\n",
    "\n",
    "\n",
    "\n",
    "##### List the total number of successful and failure mission outcomes\n"
   ]
  },
  {
   "cell_type": "code",
   "execution_count": null,
   "metadata": {},
   "outputs": [],
   "source": []
  },
  {
   "cell_type": "markdown",
   "metadata": {},
   "source": [
    "### Task 8\n",
    "\n",
    "\n",
    "\n",
    "##### List all the booster_versions that have carried the maximum payload mass, using a subquery with a suitable aggregate function.\n"
   ]
  },
  {
   "cell_type": "code",
   "execution_count": null,
   "metadata": {},
   "outputs": [],
   "source": []
  },
  {
   "cell_type": "markdown",
   "metadata": {},
   "source": [
    "### Task 9\n",
    "\n",
    "\n",
    "##### List the records which will display the month names, failure landing_outcomes in drone ship ,booster versions, launch_site for the months in year 2015.\n",
    "\n",
    "**Note: SQLLite does not support monthnames. So you need to use  substr(Date, 6,2) as month to get the months and substr(Date,0,5)='2015' for year.**\n"
   ]
  },
  {
   "cell_type": "code",
   "execution_count": null,
   "metadata": {},
   "outputs": [],
   "source": []
  },
  {
   "cell_type": "markdown",
   "metadata": {},
   "source": [
    "### Task 10\n",
    "\n",
    "\n",
    "\n",
    "\n",
    "##### Rank the count of landing outcomes (such as Failure (drone ship) or Success (ground pad)) between the date 2010-06-04 and 2017-03-20, in descending order.\n"
   ]
  },
  {
   "cell_type": "code",
   "execution_count": null,
   "metadata": {},
   "outputs": [],
   "source": []
  },
  {
   "cell_type": "markdown",
   "metadata": {},
   "source": [
    "### Reference Links\n",
    "\n",
    "* <a href =\"https://cf-courses-data.s3.us.cloud-object-storage.appdomain.cloud/IBMDeveloperSkillsNetwork-DB0201EN-SkillsNetwork/labs/Labs_Coursera_V5/labs/Lab%20-%20String%20Patterns%20-%20Sorting%20-%20Grouping/instructional-labs.md.html?origin=www.coursera.org\">Hands-on Lab : String Patterns, Sorting and Grouping</a>  \n",
    "\n",
    "*  <a  href=\"https://cf-courses-data.s3.us.cloud-object-storage.appdomain.cloud/IBMDeveloperSkillsNetwork-DB0201EN-SkillsNetwork/labs/Labs_Coursera_V5/labs/Lab%20-%20Built-in%20functions%20/Hands-on_Lab__Built-in_Functions.md.html?origin=www.coursera.org\">Hands-on Lab: Built-in functions</a>\n",
    "\n",
    "*  <a  href=\"https://cf-courses-data.s3.us.cloud-object-storage.appdomain.cloud/IBMDeveloperSkillsNetwork-DB0201EN-SkillsNetwork/labs/Labs_Coursera_V5/labs/Lab%20-%20Sub-queries%20and%20Nested%20SELECTs%20/instructional-labs.md.html?origin=www.coursera.org\">Hands-on Lab : Sub-queries and Nested SELECT Statements</a>\n",
    "\n",
    "*   <a href=\"https://cf-courses-data.s3.us.cloud-object-storage.appdomain.cloud/IBMDeveloperSkillsNetwork-DB0201EN-SkillsNetwork/labs/Module%205/DB0201EN-Week3-1-3-SQLmagic.ipynb\">Hands-on Tutorial: Accessing Databases with SQL magic</a>\n",
    "\n",
    "*  <a href= \"https://cf-courses-data.s3.us.cloud-object-storage.appdomain.cloud/IBMDeveloperSkillsNetwork-DB0201EN-SkillsNetwork/labs/Module%205/DB0201EN-Week3-1-4-Analyzing.ipynb\">Hands-on Lab: Analyzing a real World Data Set</a>\n",
    "\n",
    "\n"
   ]
  },
  {
   "cell_type": "markdown",
   "metadata": {},
   "source": [
    "## Author(s)\n",
    "\n",
    "<h4> Lakshmi Holla </h4>\n"
   ]
  },
  {
   "cell_type": "markdown",
   "metadata": {},
   "source": [
    "## Other Contributors\n",
    "\n",
    "<h4> Rav Ahuja </h4>\n"
   ]
  },
  {
   "cell_type": "markdown",
   "metadata": {},
   "source": [
    "<!--\n",
    "## Change log\n",
    "| Date | Version | Changed by | Change Description |\n",
    "|------|--------|--------|---------|\n",
    "| 2024-07-10 | 1.1 |Anita Verma | Changed Version|\n",
    "| 2021-07-09 | 0.2 |Lakshmi Holla | Changes made in magic sql|\n",
    "| 2021-05-20 | 0.1 |Lakshmi Holla | Created Initial Version |\n",
    "-->\n"
   ]
  },
  {
   "cell_type": "markdown",
   "metadata": {},
   "source": [
    "## <h3 align=\"center\"> © IBM Corporation 2021. All rights reserved. <h3/>\n"
   ]
  }
 ],
 "metadata": {
  "kernelspec": {
   "display_name": "Python 3 (ipykernel)",
   "language": "python",
   "name": "python3"
  },
  "language_info": {
   "codemirror_mode": {
    "name": "ipython",
    "version": 3
   },
   "file_extension": ".py",
   "mimetype": "text/x-python",
   "name": "python",
   "nbconvert_exporter": "python",
   "pygments_lexer": "ipython3",
   "version": "3.13.3"
  },
  "prev_pub_hash": "12df46c3b0654f639da96fac3e05f156ee105e47e0c79adacb1892bc327713de"
 },
 "nbformat": 4,
 "nbformat_minor": 4
}
